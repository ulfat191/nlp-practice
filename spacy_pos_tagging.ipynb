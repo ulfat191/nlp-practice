{
 "cells": [
  {
   "cell_type": "code",
   "execution_count": 1,
   "metadata": {},
   "outputs": [],
   "source": [
    "import spacy\n",
    "\n",
    "nlp = spacy.load(\"en_core_web_sm\")"
   ]
  },
  {
   "cell_type": "code",
   "execution_count": 6,
   "metadata": {},
   "outputs": [
    {
     "name": "stdout",
     "output_type": "stream",
     "text": [
      "However  |  ADV -> adverb -> RB adverb\n",
      ",  |  PUNCT -> punctuation -> , punctuation mark, comma\n",
      "while  |  SCONJ -> subordinating conjunction -> IN conjunction, subordinating or preposition\n",
      "the  |  DET -> determiner -> DT determiner\n",
      "Nexus  |  PROPN -> proper noun -> NNP noun, proper singular\n",
      "5  |  NUM -> numeral -> CD cardinal number\n",
      "has  |  VERB -> verb -> VBZ verb, 3rd person singular present\n",
      "no  |  DET -> determiner -> DT determiner\n",
      "problem  |  NOUN -> noun -> NN noun, singular or mass\n",
      "with  |  ADP -> adposition -> IN conjunction, subordinating or preposition\n",
      "any  |  PRON -> pronoun -> DT determiner\n",
      "of  |  ADP -> adposition -> IN conjunction, subordinating or preposition\n",
      "the  |  DET -> determiner -> DT determiner\n",
      "ac  |  PROPN -> proper noun -> NNP noun, proper singular\n",
      "routers  |  NOUN -> noun -> NNS noun, plural\n",
      "I  |  PRON -> pronoun -> PRP pronoun, personal\n",
      "'ve  |  AUX -> auxiliary -> VBP verb, non-3rd person singular present\n",
      "purchased  |  VERB -> verb -> VBN verb, past participle\n",
      ",  |  PUNCT -> punctuation -> , punctuation mark, comma\n",
      "the  |  DET -> determiner -> DT determiner\n",
      "Galaxy  |  PROPN -> proper noun -> NNP noun, proper singular\n",
      "S4  |  PROPN -> proper noun -> NNP noun, proper singular\n",
      "continues  |  VERB -> verb -> VBZ verb, 3rd person singular present\n",
      "to  |  PART -> particle -> TO infinitival \"to\"\n",
      "be  |  AUX -> auxiliary -> VB verb, base form\n",
      "a  |  DET -> determiner -> DT determiner\n",
      "problem  |  NOUN -> noun -> NN noun, singular or mass\n",
      ".  |  PUNCT -> punctuation -> . punctuation mark, sentence closer\n"
     ]
    }
   ],
   "source": [
    "doc = nlp(\"However, while the Nexus 5 has no problem with any of the ac routers I've purchased, the Galaxy S4 continues to be a problem. \")\n",
    "for token in doc:\n",
    "    print(token, \" | \", token.pos_, \"->\", spacy.explain(token.pos_), \"->\", token.tag_, spacy.explain(token.tag_)) # getting it from the english trained model pipeline"
   ]
  },
  {
   "cell_type": "code",
   "execution_count": 12,
   "metadata": {},
   "outputs": [
    {
     "name": "stdout",
     "output_type": "stream",
     "text": [
      "stops -> NNS noun, plural\n"
     ]
    }
   ],
   "source": [
    "doc = nlp(\"Iphone 6 stops in 2017.\")\n",
    "\n",
    "print(doc[2], \"->\", doc[2].tag_, spacy.explain(doc[2].tag_))"
   ]
  },
  {
   "cell_type": "code",
   "execution_count": 11,
   "metadata": {},
   "outputs": [
    {
     "name": "stdout",
     "output_type": "stream",
     "text": [
      "stopped -> VBN verb, past participle\n"
     ]
    }
   ],
   "source": [
    "doc = nlp(\"Iphone 6 stopped by Apple Inc. from 2017.\")\n",
    "\n",
    "print(doc[2], \"->\", doc[2].tag_, spacy.explain(doc[2].tag_))"
   ]
  },
  {
   "cell_type": "code",
   "execution_count": 13,
   "metadata": {},
   "outputs": [
    {
     "name": "stdout",
     "output_type": "stream",
     "text": [
      "quits -> VBZ verb, 3rd person singular present\n"
     ]
    }
   ],
   "source": [
    "doc = nlp(\"Iphone 6 quits the market in 2017.\")\n",
    "\n",
    "print(doc[2], \"->\", doc[2].tag_, spacy.explain(doc[2].tag_))"
   ]
  },
  {
   "cell_type": "code",
   "execution_count": 19,
   "metadata": {},
   "outputs": [],
   "source": [
    "# we can also get rid of unencessary tokens or the words we do not need, like X or space oro punctuation.\n",
    "\n",
    "rev1 = \"\"\"Not a whole lot of people are using the latest 802.11ac standard -- AFAIK it isn't finalized yet and is still pricey. However, while the Nexus 5 has no problem with any of the ac routers I've purchased, the Galaxy S4 continues to be a problem. Range seems to be the biggest issue with the GS4 and an ac router -- I can't go more than a few feet away before losing substantial speeds and/or experiencing a complete loss of signal. I tried different routers and different firmwares with the same results and it happened on both of my GS4s. One particular firmware with the Netgear got me a greater range, but stability was much worse with loss of connections every few minutes. I'd like to think it's just a router issues, but the Nexus 5 doesn't have a problem with any router or any firmware version so I'm holding Samsung accountable on this one. Ultimately, I've decided to stick to the 2.4Ghz connection and the phone will work fine, but it's a shame that the 5Ghz ac connection won't work with this phone. Routers Used: Netgear AC1900 R7000 Nighthawk Stock Firmware Versions: V1.0.2.194_1.0.15 // V1.0.2.164_1.0.15 Kong Firmware Versions: 23250 Asus AC1900 RT-AC68R Firmware Version: 3.0.0.4.374_205 My Devices capable of 5GHz: Two Separate Galaxy S4 phones (802.11ac) Nexus 5 Phone (802.11ac) Nexus 7 Tablet (non 802.11ac) Panasonic TC-PST50 Television (non 802.11ac) Symptoms on Netgear AC1900 R7000 with firmware version V1.0.2.164_1.0.15: Galaxy S4 experienced sufficient coverage and speeds on 5GHz network but experienced unreliable connections with random drops occurring every few minutes. Only GS4 would display these issues, Nexus Devices and TV maintained connection to network/internet as well as the 2.4GHz devices and ethernet plugged devices. Symptoms on Netgear AC1900 R7000 with firmware version V1.0.2.194_1.0.15: Galaxy S4 had excellent speed with VERY limited range. Within 5 feet of router, phone obtained maximum connection speeds. After that, every few feet speeds would drop significantly. Once out of the room (less than 15 feet away), the GS4 would lose connection entirely. Nexus devices and TV did not experience this issue. Symptoms on Netgear AC1900 R7000 with firmware by Kong, version 23250: Exact same symptoms and results as with the stock Netgear firmware version V1.0.2.194_1.0.15 -- VERY limited range. Symptoms on Asus AC1900 RT-AC68R with firmware Version: 3.0.0.4.374_205: Exact same symptoms and results as with the stock Netgear firmware version V1.0.2.194_1.0.15 -- VERY limited range. Attempted Fixes: Factory Resets on Routers and GS4 Tried different channels on the router using WiFi analyzer to help choose Specifying Wireless Modes (N+AC, N, Auto, etc) Disabled WiFi Power Save Mode on GS4 Notes: No noticeable issues with the 2.4GHz or wired devices with any router or firmware versions -- though I've been primarily focusing on the 5GHz. Phone: Software Version: MK2, Hardware Version: L720.08, Non Rooted\"\"\""
   ]
  },
  {
   "cell_type": "code",
   "execution_count": 25,
   "metadata": {},
   "outputs": [
    {
     "data": {
      "text/plain": [
       "[--,\n",
       " .,\n",
       " ,,\n",
       " ,,\n",
       " .,\n",
       " --,\n",
       " .,\n",
       " .,\n",
       " ,,\n",
       " .,\n",
       " ,,\n",
       " .,\n",
       " ,,\n",
       " ,,\n",
       " .,\n",
       " :,\n",
       " :,\n",
       " :,\n",
       " -,\n",
       " :,\n",
       " :,\n",
       " (,\n",
       " ),\n",
       " (,\n",
       " ),\n",
       " (,\n",
       " ),\n",
       " -,\n",
       " (,\n",
       " ),\n",
       " :,\n",
       " .,\n",
       " ,,\n",
       " .,\n",
       " :,\n",
       " .,\n",
       " ,,\n",
       " .,\n",
       " ,,\n",
       " .,\n",
       " (,\n",
       " ),\n",
       " ,,\n",
       " .,\n",
       " .,\n",
       " ,,\n",
       " :,\n",
       " --,\n",
       " .,\n",
       " -,\n",
       " :,\n",
       " :,\n",
       " --,\n",
       " .,\n",
       " :,\n",
       " (,\n",
       " ,,\n",
       " ,,\n",
       " ,,\n",
       " etc,\n",
       " ),\n",
       " :,\n",
       " --,\n",
       " .,\n",
       " :,\n",
       " :,\n",
       " ,,\n",
       " :,\n",
       " ,]"
      ]
     },
     "execution_count": 25,
     "metadata": {},
     "output_type": "execute_result"
    }
   ],
   "source": [
    "doc = nlp(rev1)\n",
    "\n",
    "filtered_tokens = []\n",
    "for token in doc:\n",
    "    if token.pos_ in [\"SPACE\", \"X\", \"PUNCT\"]:\n",
    "        #print(token, \"->\", token.pos_, \"->\", spacy.explain(token.pos_))\\\n",
    "        filtered_tokens.append(token)\n",
    "\n",
    "filtered_tokens"
   ]
  },
  {
   "cell_type": "code",
   "execution_count": 26,
   "metadata": {},
   "outputs": [
    {
     "data": {
      "text/plain": [
       "[--, ., ,, ,, ., --, ., ., ,, ., ,, ., ,, ,, ., :, :, :, -, :]"
      ]
     },
     "execution_count": 26,
     "metadata": {},
     "output_type": "execute_result"
    }
   ],
   "source": [
    "filtered_tokens[:20]"
   ]
  },
  {
   "cell_type": "code",
   "execution_count": 27,
   "metadata": {},
   "outputs": [
    {
     "data": {
      "text/plain": [
       "{94: 11,\n",
       " 90: 41,\n",
       " 84: 40,\n",
       " 92: 101,\n",
       " 85: 48,\n",
       " 87: 22,\n",
       " 100: 39,\n",
       " 97: 68,\n",
       " 96: 96,\n",
       " 95: 18,\n",
       " 86: 19,\n",
       " 89: 20,\n",
       " 98: 3,\n",
       " 93: 19,\n",
       " 99: 2,\n",
       " 101: 1}"
      ]
     },
     "execution_count": 27,
     "metadata": {},
     "output_type": "execute_result"
    }
   ],
   "source": [
    "doc.count_by(spacy.attrs.POS)"
   ]
  },
  {
   "cell_type": "code",
   "execution_count": 37,
   "metadata": {},
   "outputs": [
    {
     "name": "stdout",
     "output_type": "stream",
     "text": [
      "NUM\n",
      "PRON\n",
      "X\n",
      "SYM\n",
      "VERB\n",
      "PART\n"
     ]
    }
   ],
   "source": [
    "print(doc.vocab[93].text)\n",
    "print(doc.vocab[95].text)\n",
    "print(doc.vocab[101].text)\n",
    "print(doc.vocab[99].text)\n",
    "print(doc.vocab[100].text)\n",
    "print(doc.vocab[94].text)\n"
   ]
  }
 ],
 "metadata": {
  "kernelspec": {
   "display_name": "Python 3.8.2 64-bit",
   "language": "python",
   "name": "python3"
  },
  "language_info": {
   "codemirror_mode": {
    "name": "ipython",
    "version": 3
   },
   "file_extension": ".py",
   "mimetype": "text/x-python",
   "name": "python",
   "nbconvert_exporter": "python",
   "pygments_lexer": "ipython3",
   "version": "3.8.2"
  },
  "orig_nbformat": 4,
  "vscode": {
   "interpreter": {
    "hash": "723d4b7bc280cd31fdada53ad6420192b9a3a8d60631096143cc718cb9440dc1"
   }
  }
 },
 "nbformat": 4,
 "nbformat_minor": 2
}
