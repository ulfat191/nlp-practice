{
 "cells": [
  {
   "cell_type": "code",
   "execution_count": 1,
   "metadata": {},
   "outputs": [],
   "source": [
    "import spacy"
   ]
  },
  {
   "cell_type": "code",
   "execution_count": 2,
   "metadata": {},
   "outputs": [
    {
     "name": "stdout",
     "output_type": "stream",
     "text": [
      "The\n",
      "new\n",
      "IPhone\n",
      "i\n",
      "purchased\n",
      "was\n",
      "only\n",
      "999$.\n",
      "It\n",
      "does\n",
      "not\n",
      "come\n",
      "with\n",
      "a\n",
      "headdphone\n",
      "jack\n"
     ]
    }
   ],
   "source": [
    "nlp = spacy.blank('en')\n",
    "\n",
    "doc = nlp(\"The new IPhone i purchased was only 999$. It does not come with a headdphone jack\")\n",
    "\n",
    "for tokens in doc: \n",
    "    print(tokens)"
   ]
  },
  {
   "cell_type": "code",
   "execution_count": 3,
   "metadata": {},
   "outputs": [],
   "source": [
    "nlp = spacy.load(\"en_core_web_sm\")"
   ]
  },
  {
   "cell_type": "code",
   "execution_count": 10,
   "metadata": {},
   "outputs": [
    {
     "data": {
      "text/plain": [
       "['tok2vec', 'tagger', 'parser', 'attribute_ruler', 'lemmatizer', 'ner']"
      ]
     },
     "execution_count": 10,
     "metadata": {},
     "output_type": "execute_result"
    }
   ],
   "source": [
    "nlp.pipe_names # these are the language processing pipelines\n",
    "\n",
    "# spacy also allows us to add pipelines from different languages to a blank pipeline"
   ]
  },
  {
   "cell_type": "code",
   "execution_count": 22,
   "metadata": {},
   "outputs": [
    {
     "name": "stdout",
     "output_type": "stream",
     "text": [
      "The -> the -> DET\n",
      "new -> new -> ADJ\n",
      "IPhone -> IPhone -> PROPN\n",
      "i -> I -> PRON\n",
      "purchased -> purchase -> VERB\n",
      "was -> be -> AUX\n",
      "only -> only -> ADV\n",
      "999$. -> 999$. -> NUM\n",
      "It -> it -> PRON\n",
      "does -> do -> AUX\n",
      "not -> not -> PART\n",
      "come -> come -> VERB\n",
      "with -> with -> ADP\n",
      "a -> a -> DET\n",
      "headdphone -> headdphone -> NOUN\n",
      "jack -> jack -> PROPN\n"
     ]
    }
   ],
   "source": [
    "doc = nlp(\"The new IPhone i purchased was only 999$. It does not come with a headdphone jack\")\n",
    "\n",
    "for token in doc:\n",
    "     print(token, '->', token.lemma_, '->', token.pos_) # prints the token first, then the base word and then the parts of speech"
   ]
  },
  {
   "cell_type": "code",
   "execution_count": 31,
   "metadata": {},
   "outputs": [
    {
     "name": "stdout",
     "output_type": "stream",
     "text": [
      "NSU INC   | ORG\n",
      "100$ | MONEY\n"
     ]
    }
   ],
   "source": [
    "doc = nlp(\"NSU INC  provides 100$ crore financial aid everyyear to its students.\")\n",
    "\n",
    "for  ent in doc.ents:\n",
    "    print(ent.text, \"|\", ent.label_)"
   ]
  },
  {
   "cell_type": "code",
   "execution_count": 33,
   "metadata": {},
   "outputs": [
    {
     "data": {
      "text/html": [
       "<span class=\"tex2jax_ignore\"><div class=\"entities\" style=\"line-height: 2.5; direction: ltr\">\n",
       "<mark class=\"entity\" style=\"background: #7aecec; padding: 0.45em 0.6em; margin: 0 0.25em; line-height: 1; border-radius: 0.35em;\">\n",
       "    NSU INC  \n",
       "    <span style=\"font-size: 0.8em; font-weight: bold; line-height: 1; border-radius: 0.35em; vertical-align: middle; margin-left: 0.5rem\">ORG</span>\n",
       "</mark>\n",
       "provides \n",
       "<mark class=\"entity\" style=\"background: #e4e7d2; padding: 0.45em 0.6em; margin: 0 0.25em; line-height: 1; border-radius: 0.35em;\">\n",
       "    100$\n",
       "    <span style=\"font-size: 0.8em; font-weight: bold; line-height: 1; border-radius: 0.35em; vertical-align: middle; margin-left: 0.5rem\">MONEY</span>\n",
       "</mark>\n",
       " crore financial aid everyyear to its students.</div></span>"
      ],
      "text/plain": [
       "<IPython.core.display.HTML object>"
      ]
     },
     "metadata": {},
     "output_type": "display_data"
    }
   ],
   "source": [
    "from spacy import displacy\n",
    "\n",
    "displacy.render(doc, style=\"ent\") # ner - named entity recoognizer - to recognize entities from a sentence. "
   ]
  }
 ],
 "metadata": {
  "kernelspec": {
   "display_name": "Python 3.8.2 64-bit",
   "language": "python",
   "name": "python3"
  },
  "language_info": {
   "codemirror_mode": {
    "name": "ipython",
    "version": 3
   },
   "file_extension": ".py",
   "mimetype": "text/x-python",
   "name": "python",
   "nbconvert_exporter": "python",
   "pygments_lexer": "ipython3",
   "version": "3.8.2"
  },
  "orig_nbformat": 4,
  "vscode": {
   "interpreter": {
    "hash": "723d4b7bc280cd31fdada53ad6420192b9a3a8d60631096143cc718cb9440dc1"
   }
  }
 },
 "nbformat": 4,
 "nbformat_minor": 2
}
